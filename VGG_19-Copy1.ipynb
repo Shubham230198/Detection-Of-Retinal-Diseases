{
 "cells": [
  {
   "cell_type": "code",
   "execution_count": 1,
   "metadata": {
    "_cell_guid": "b1076dfc-b9ad-4769-8c92-a6c4dae69d19",
    "_uuid": "8f2839f25d086af736a60e9eeb907d3b93b6e0e5"
   },
   "outputs": [],
   "source": [
    "import os\n",
    "from glob import glob\n",
    "import pandas as pd\n",
    "import numpy as np\n",
    "from numpy import expand_dims\n",
    "import matplotlib.pyplot as plt\n",
    "import matplotlib.image as mpimg\n",
    "import seaborn as sn\n",
    "from skimage.transform import resize\n",
    "from skimage.color import gray2rgb\n",
    "from sklearn.metrics import classification_report, confusion_matrix\n",
    "from sklearn.metrics import cohen_kappa_score\n",
    "from sklearn.metrics import roc_auc_score\n",
    "from IPython.display import SVG\n",
    "\n",
    "from tensorflow import keras\n",
    "from tensorflow.keras import applications, optimizers\n",
    "from tensorflow.keras.models import Model, Sequential, load_model\n",
    "from tensorflow.keras.preprocessing.image import ImageDataGenerator, load_img, img_to_array\n",
    "from tensorflow.keras.layers import Dense, Flatten, Dropout\n",
    "from tensorflow.keras.applications.vgg16 import VGG16, preprocess_input\n",
    "from tensorflow.keras.utils import to_categorical, model_to_dot, plot_model\n",
    "from tensorflow.keras.callbacks import ModelCheckpoint, EarlyStopping, CSVLogger, ReduceLROnPlateau\n"
   ]
  },
  {
   "cell_type": "code",
   "execution_count": 2,
   "metadata": {
    "_cell_guid": "79c7e3d0-c299-4dcb-8224-4455121ee9b0",
    "_uuid": "d629ff2d2480ee46fbb7e2d37f6b5fab8052498a"
   },
   "outputs": [],
   "source": [
    "data_dir = \"./oct2017/OCT2017/\"\n",
    "train_data_dir= './oct2017/OCT2017/train/'\n",
    "val_data_dir= './oct2017/OCT2017/val/'\n",
    "test_data_dir= './oct2017/OCT2017/test/'\n",
    "\n",
    "img_width, img_height = 150, 150 \n",
    "channels = 3\n",
    "batch_size = 32"
   ]
  },
  {
   "cell_type": "code",
   "execution_count": 3,
   "metadata": {},
   "outputs": [],
   "source": [
    "train_datagen = ImageDataGenerator(\n",
    "    rescale= 1./255,\n",
    "    zoom_range= (0.73, 0.9),\n",
    "    horizontal_flip= True,\n",
    "    rotation_range= 10,\n",
    "    width_shift_range= 0.10,\n",
    "    fill_mode= 'constant',\n",
    "    height_shift_range= 0.10,   \n",
    "    brightness_range= (0.55, 0.9),\n",
    ")\n",
    "\n",
    "valid_test_datagen = ImageDataGenerator(\n",
    "    rescale= 1./255, \n",
    ")"
   ]
  },
  {
   "cell_type": "code",
   "execution_count": 4,
   "metadata": {},
   "outputs": [
    {
     "name": "stdout",
     "output_type": "stream",
     "text": [
      "Found 83489 images belonging to 4 classes.\n",
      "Found 32 images belonging to 4 classes.\n",
      "Found 968 images belonging to 4 classes.\n"
     ]
    }
   ],
   "source": [
    "train_generator = train_datagen.flow_from_directory(  \n",
    "    train_data_dir,  \n",
    "    target_size= (img_width, img_height), \n",
    "    color_mode= 'rgb',\n",
    "    batch_size= batch_size,  \n",
    "    class_mode= 'categorical',\n",
    "    shuffle= True, \n",
    "    seed= 1337\n",
    ")\n",
    "\n",
    "valid_generator = valid_test_datagen.flow_from_directory(\n",
    "    val_data_dir,\n",
    "    target_size= (img_width, img_height),\n",
    "    color_mode= 'rgb',\n",
    "    batch_size= batch_size,  \n",
    "    class_mode= 'categorical',\n",
    "    shuffle= True, \n",
    "    seed= 1337\n",
    ")\n",
    "\n",
    "test_generator = valid_test_datagen.flow_from_directory(  \n",
    "    test_data_dir,  \n",
    "    target_size= (img_width, img_height), \n",
    "    color_mode= 'rgb',\n",
    "    batch_size= batch_size,        \n",
    "    class_mode= 'categorical',\n",
    "    shuffle= False, \n",
    ")"
   ]
  },
  {
   "cell_type": "code",
   "execution_count": 5,
   "metadata": {},
   "outputs": [],
   "source": [
    "num_classes = len(train_generator.class_indices)  \n",
    "train_labels = train_generator.classes \n",
    "train_labels = to_categorical(train_labels, num_classes=num_classes)\n",
    "valid_labels = valid_generator.classes \n",
    "valid_labels = to_categorical(valid_labels, num_classes=num_classes)\n",
    "nb_train_samples = len(train_generator.filenames)  \n",
    "nb_valid_samples = len(valid_generator.filenames)\n",
    "nb_test_samples = len(test_generator.filenames)"
   ]
  },
  {
   "cell_type": "code",
   "execution_count": 6,
   "metadata": {},
   "outputs": [
    {
     "name": "stdout",
     "output_type": "stream",
     "text": [
      "Model: \"vgg19\"\n",
      "_________________________________________________________________\n",
      "Layer (type)                 Output Shape              Param #   \n",
      "=================================================================\n",
      "input_1 (InputLayer)         [(None, 150, 150, 3)]     0         \n",
      "_________________________________________________________________\n",
      "block1_conv1 (Conv2D)        (None, 150, 150, 64)      1792      \n",
      "_________________________________________________________________\n",
      "block1_conv2 (Conv2D)        (None, 150, 150, 64)      36928     \n",
      "_________________________________________________________________\n",
      "block1_pool (MaxPooling2D)   (None, 75, 75, 64)        0         \n",
      "_________________________________________________________________\n",
      "block2_conv1 (Conv2D)        (None, 75, 75, 128)       73856     \n",
      "_________________________________________________________________\n",
      "block2_conv2 (Conv2D)        (None, 75, 75, 128)       147584    \n",
      "_________________________________________________________________\n",
      "block2_pool (MaxPooling2D)   (None, 37, 37, 128)       0         \n",
      "_________________________________________________________________\n",
      "block3_conv1 (Conv2D)        (None, 37, 37, 256)       295168    \n",
      "_________________________________________________________________\n",
      "block3_conv2 (Conv2D)        (None, 37, 37, 256)       590080    \n",
      "_________________________________________________________________\n",
      "block3_conv3 (Conv2D)        (None, 37, 37, 256)       590080    \n",
      "_________________________________________________________________\n",
      "block3_conv4 (Conv2D)        (None, 37, 37, 256)       590080    \n",
      "_________________________________________________________________\n",
      "block3_pool (MaxPooling2D)   (None, 18, 18, 256)       0         \n",
      "_________________________________________________________________\n",
      "block4_conv1 (Conv2D)        (None, 18, 18, 512)       1180160   \n",
      "_________________________________________________________________\n",
      "block4_conv2 (Conv2D)        (None, 18, 18, 512)       2359808   \n",
      "_________________________________________________________________\n",
      "block4_conv3 (Conv2D)        (None, 18, 18, 512)       2359808   \n",
      "_________________________________________________________________\n",
      "block4_conv4 (Conv2D)        (None, 18, 18, 512)       2359808   \n",
      "_________________________________________________________________\n",
      "block4_pool (MaxPooling2D)   (None, 9, 9, 512)         0         \n",
      "_________________________________________________________________\n",
      "block5_conv1 (Conv2D)        (None, 9, 9, 512)         2359808   \n",
      "_________________________________________________________________\n",
      "block5_conv2 (Conv2D)        (None, 9, 9, 512)         2359808   \n",
      "_________________________________________________________________\n",
      "block5_conv3 (Conv2D)        (None, 9, 9, 512)         2359808   \n",
      "_________________________________________________________________\n",
      "block5_conv4 (Conv2D)        (None, 9, 9, 512)         2359808   \n",
      "_________________________________________________________________\n",
      "block5_pool (MaxPooling2D)   (None, 4, 4, 512)         0         \n",
      "=================================================================\n",
      "Total params: 20,024,384\n",
      "Trainable params: 20,024,384\n",
      "Non-trainable params: 0\n",
      "_________________________________________________________________\n"
     ]
    }
   ],
   "source": [
    "from tensorflow.keras.applications.vgg19 import VGG19\n",
    "\n",
    "vgg19 = VGG19(include_top= False, input_shape= (img_width, img_height, channels), weights= 'imagenet')\n",
    "vgg19.summary()"
   ]
  },
  {
   "cell_type": "code",
   "execution_count": 7,
   "metadata": {},
   "outputs": [
    {
     "name": "stdout",
     "output_type": "stream",
     "text": [
      "Model: \"sequential\"\n",
      "_________________________________________________________________\n",
      "Layer (type)                 Output Shape              Param #   \n",
      "=================================================================\n",
      "block1_conv1 (Conv2D)        (None, 150, 150, 64)      1792      \n",
      "_________________________________________________________________\n",
      "block1_conv2 (Conv2D)        (None, 150, 150, 64)      36928     \n",
      "_________________________________________________________________\n",
      "block1_pool (MaxPooling2D)   (None, 75, 75, 64)        0         \n",
      "_________________________________________________________________\n",
      "block2_conv1 (Conv2D)        (None, 75, 75, 128)       73856     \n",
      "_________________________________________________________________\n",
      "block2_conv2 (Conv2D)        (None, 75, 75, 128)       147584    \n",
      "_________________________________________________________________\n",
      "block2_pool (MaxPooling2D)   (None, 37, 37, 128)       0         \n",
      "_________________________________________________________________\n",
      "block3_conv1 (Conv2D)        (None, 37, 37, 256)       295168    \n",
      "_________________________________________________________________\n",
      "block3_conv2 (Conv2D)        (None, 37, 37, 256)       590080    \n",
      "_________________________________________________________________\n",
      "block3_conv3 (Conv2D)        (None, 37, 37, 256)       590080    \n",
      "_________________________________________________________________\n",
      "block3_conv4 (Conv2D)        (None, 37, 37, 256)       590080    \n",
      "_________________________________________________________________\n",
      "block3_pool (MaxPooling2D)   (None, 18, 18, 256)       0         \n",
      "_________________________________________________________________\n",
      "block4_conv1 (Conv2D)        (None, 18, 18, 512)       1180160   \n",
      "_________________________________________________________________\n",
      "block4_conv2 (Conv2D)        (None, 18, 18, 512)       2359808   \n",
      "_________________________________________________________________\n",
      "block4_conv3 (Conv2D)        (None, 18, 18, 512)       2359808   \n",
      "_________________________________________________________________\n",
      "block4_conv4 (Conv2D)        (None, 18, 18, 512)       2359808   \n",
      "_________________________________________________________________\n",
      "block4_pool (MaxPooling2D)   (None, 9, 9, 512)         0         \n",
      "_________________________________________________________________\n",
      "block5_conv1 (Conv2D)        (None, 9, 9, 512)         2359808   \n",
      "_________________________________________________________________\n",
      "block5_conv2 (Conv2D)        (None, 9, 9, 512)         2359808   \n",
      "_________________________________________________________________\n",
      "block5_conv3 (Conv2D)        (None, 9, 9, 512)         2359808   \n",
      "_________________________________________________________________\n",
      "block5_conv4 (Conv2D)        (None, 9, 9, 512)         2359808   \n",
      "_________________________________________________________________\n",
      "block5_pool (MaxPooling2D)   (None, 4, 4, 512)         0         \n",
      "_________________________________________________________________\n",
      "flatten (Flatten)            (None, 8192)              0         \n",
      "_________________________________________________________________\n",
      "dropout (Dropout)            (None, 8192)              0         \n",
      "_________________________________________________________________\n",
      "dense (Dense)                (None, 4)                 32772     \n",
      "=================================================================\n",
      "Total params: 20,057,156\n",
      "Trainable params: 20,057,156\n",
      "Non-trainable params: 0\n",
      "_________________________________________________________________\n"
     ]
    }
   ],
   "source": [
    "model = Sequential()\n",
    "\n",
    "for layer in vgg19.layers:\n",
    "    model.add(layer)\n",
    "\n",
    "model.add(Flatten(input_shape= (4, 4, 512)))\n",
    "model.add(Dropout(0.2))\n",
    "model.add(Dense(4,activation='softmax'))\n",
    "\n",
    "model.summary()"
   ]
  },
  {
   "cell_type": "code",
   "execution_count": 8,
   "metadata": {},
   "outputs": [],
   "source": [
    "model.compile(optimizer= keras.optimizers.Adam(1e-5), loss= 'categorical_crossentropy', metrics= ['accuracy'])"
   ]
  },
  {
   "cell_type": "code",
   "execution_count": 9,
   "metadata": {},
   "outputs": [
    {
     "name": "stdout",
     "output_type": "stream",
     "text": [
      "WARNING:tensorflow:`period` argument is deprecated. Please use `save_freq` to specify the frequency in number of samples seen.\n"
     ]
    }
   ],
   "source": [
    "checkpoint = ModelCheckpoint(\n",
    "    'finetuned_model_last.h5',\n",
    "    monitor='loss',\n",
    "    verbose=1,\n",
    "    save_best_only=True,\n",
    "    mode='auto',\n",
    "    save_weights_only=False,\n",
    "    period=1\n",
    ")\n",
    "\n",
    "earlystop = EarlyStopping(\n",
    "    monitor='loss',\n",
    "    min_delta=0.001,\n",
    "    patience=3,\n",
    "    verbose=1,\n",
    "    mode='auto'\n",
    ")\n",
    "\n",
    "\n",
    "callbacks = [checkpoint, earlystop]"
   ]
  },
  {
   "cell_type": "code",
   "execution_count": 10,
   "metadata": {},
   "outputs": [],
   "source": [
    "model.load_weights('finetuned_model_last.h5')"
   ]
  },
  {
   "cell_type": "code",
   "execution_count": 11,
   "metadata": {},
   "outputs": [
    {
     "name": "stdout",
     "output_type": "stream",
     "text": [
      "WARNING:tensorflow:sample_weight modes were coerced from\n",
      "  ...\n",
      "    to  \n",
      "  ['...']\n",
      "WARNING:tensorflow:sample_weight modes were coerced from\n",
      "  ...\n",
      "    to  \n",
      "  ['...']\n",
      "Train for 2609 steps, validate for 1 steps\n",
      "Epoch 1/25\n",
      "2608/2609 [============================>.] - ETA: 0s - loss: 0.2916 - accuracy: 0.9006\n",
      "Epoch 00001: loss improved from inf to 0.29163, saving model to finetuned_model_last.h5\n",
      "2609/2609 [==============================] - 1165s 447ms/step - loss: 0.2915 - accuracy: 0.9006 - val_loss: 0.0942 - val_accuracy: 0.9688\n",
      "Epoch 2/25\n",
      "2608/2609 [============================>.] - ETA: 0s - loss: 0.1799 - accuracy: 0.9399\n",
      "Epoch 00002: loss improved from 0.29163 to 0.17997, saving model to finetuned_model_last.h5\n",
      "2609/2609 [==============================] - 1156s 443ms/step - loss: 0.1799 - accuracy: 0.9399 - val_loss: 0.0257 - val_accuracy: 1.0000\n",
      "Epoch 3/25\n",
      "2608/2609 [============================>.] - ETA: 0s - loss: 0.1546 - accuracy: 0.9488\n",
      "Epoch 00003: loss improved from 0.17997 to 0.15464, saving model to finetuned_model_last.h5\n",
      "2609/2609 [==============================] - 1157s 443ms/step - loss: 0.1546 - accuracy: 0.9488 - val_loss: 0.0303 - val_accuracy: 1.0000\n",
      "Epoch 4/25\n",
      "2608/2609 [============================>.] - ETA: 0s - loss: 0.1375 - accuracy: 0.9540\n",
      "Epoch 00004: loss improved from 0.15464 to 0.13752, saving model to finetuned_model_last.h5\n",
      "2609/2609 [==============================] - 1158s 444ms/step - loss: 0.1375 - accuracy: 0.9540 - val_loss: 0.0297 - val_accuracy: 1.0000\n",
      "Epoch 5/25\n",
      "2608/2609 [============================>.] - ETA: 0s - loss: 0.1267 - accuracy: 0.9570\n",
      "Epoch 00005: loss improved from 0.13752 to 0.12671, saving model to finetuned_model_last.h5\n",
      "2609/2609 [==============================] - 1158s 444ms/step - loss: 0.1267 - accuracy: 0.9570 - val_loss: 0.0180 - val_accuracy: 1.0000\n",
      "Epoch 6/25\n",
      "2608/2609 [============================>.] - ETA: 0s - loss: 0.1171 - accuracy: 0.9606\n",
      "Epoch 00006: loss improved from 0.12671 to 0.11708, saving model to finetuned_model_last.h5\n",
      "2609/2609 [==============================] - 1158s 444ms/step - loss: 0.1170 - accuracy: 0.9606 - val_loss: 0.0097 - val_accuracy: 1.0000\n",
      "Epoch 7/25\n",
      "2608/2609 [============================>.] - ETA: 0s - loss: 0.1101 - accuracy: 0.9626\n",
      "Epoch 00007: loss improved from 0.11708 to 0.11013, saving model to finetuned_model_last.h5\n",
      "2609/2609 [==============================] - 1158s 444ms/step - loss: 0.1101 - accuracy: 0.9626 - val_loss: 0.0102 - val_accuracy: 1.0000\n",
      "Epoch 8/25\n",
      "2608/2609 [============================>.] - ETA: 0s - loss: 0.1024 - accuracy: 0.9653\n",
      "Epoch 00008: loss improved from 0.11013 to 0.10243, saving model to finetuned_model_last.h5\n",
      "2609/2609 [==============================] - 1158s 444ms/step - loss: 0.1024 - accuracy: 0.9653 - val_loss: 0.0139 - val_accuracy: 1.0000\n",
      "Epoch 9/25\n",
      "2608/2609 [============================>.] - ETA: 0s - loss: 0.0958 - accuracy: 0.9674\n",
      "Epoch 00009: loss improved from 0.10243 to 0.09579, saving model to finetuned_model_last.h5\n",
      "2609/2609 [==============================] - 1159s 444ms/step - loss: 0.0958 - accuracy: 0.9674 - val_loss: 0.0053 - val_accuracy: 1.0000\n",
      "Epoch 10/25\n",
      "2608/2609 [============================>.] - ETA: 0s - loss: 0.0936 - accuracy: 0.9683\n",
      "Epoch 00010: loss improved from 0.09579 to 0.09359, saving model to finetuned_model_last.h5\n",
      "2609/2609 [==============================] - 1159s 444ms/step - loss: 0.0936 - accuracy: 0.9683 - val_loss: 0.0098 - val_accuracy: 1.0000\n",
      "Epoch 11/25\n",
      "2608/2609 [============================>.] - ETA: 0s - loss: 0.0875 - accuracy: 0.9700\n",
      "Epoch 00011: loss improved from 0.09359 to 0.08747, saving model to finetuned_model_last.h5\n",
      "2609/2609 [==============================] - 1159s 444ms/step - loss: 0.0874 - accuracy: 0.9700 - val_loss: 0.0089 - val_accuracy: 1.0000\n",
      "Epoch 12/25\n",
      "2608/2609 [============================>.] - ETA: 0s - loss: 0.0822 - accuracy: 0.9719\n",
      "Epoch 00012: loss improved from 0.08747 to 0.08217, saving model to finetuned_model_last.h5\n",
      "2609/2609 [==============================] - 1158s 444ms/step - loss: 0.0821 - accuracy: 0.9719 - val_loss: 0.0067 - val_accuracy: 1.0000\n",
      "Epoch 13/25\n",
      "2608/2609 [============================>.] - ETA: 0s - loss: 0.0773 - accuracy: 0.9733\n",
      "Epoch 00013: loss improved from 0.08217 to 0.07731, saving model to finetuned_model_last.h5\n",
      "2609/2609 [==============================] - 1159s 444ms/step - loss: 0.0773 - accuracy: 0.9733 - val_loss: 0.0150 - val_accuracy: 1.0000\n",
      "Epoch 14/25\n",
      "2608/2609 [============================>.] - ETA: 0s - loss: 0.0741 - accuracy: 0.9746\n",
      "Epoch 00014: loss improved from 0.07731 to 0.07409, saving model to finetuned_model_last.h5\n",
      "2609/2609 [==============================] - 1158s 444ms/step - loss: 0.0741 - accuracy: 0.9746 - val_loss: 0.0067 - val_accuracy: 1.0000\n",
      "Epoch 15/25\n",
      "2608/2609 [============================>.] - ETA: 0s - loss: 0.0730 - accuracy: 0.9749\n",
      "Epoch 00015: loss improved from 0.07409 to 0.07297, saving model to finetuned_model_last.h5\n",
      "2609/2609 [==============================] - 1158s 444ms/step - loss: 0.0729 - accuracy: 0.9749 - val_loss: 0.0262 - val_accuracy: 1.0000\n",
      "Epoch 16/25\n",
      "2608/2609 [============================>.] - ETA: 0s - loss: 0.0701 - accuracy: 0.9755\n",
      "Epoch 00016: loss improved from 0.07297 to 0.07012, saving model to finetuned_model_last.h5\n",
      "2609/2609 [==============================] - 1159s 444ms/step - loss: 0.0701 - accuracy: 0.9755 - val_loss: 0.0058 - val_accuracy: 1.0000\n",
      "Epoch 17/25\n",
      "2608/2609 [============================>.] - ETA: 0s - loss: 0.0661 - accuracy: 0.9772\n",
      "Epoch 00017: loss improved from 0.07012 to 0.06613, saving model to finetuned_model_last.h5\n",
      "2609/2609 [==============================] - 1159s 444ms/step - loss: 0.0661 - accuracy: 0.9772 - val_loss: 0.0315 - val_accuracy: 0.9688\n",
      "Epoch 18/25\n",
      "2608/2609 [============================>.] - ETA: 0s - loss: 0.0637 - accuracy: 0.9783\n",
      "Epoch 00018: loss improved from 0.06613 to 0.06373, saving model to finetuned_model_last.h5\n",
      "2609/2609 [==============================] - 1158s 444ms/step - loss: 0.0637 - accuracy: 0.9783 - val_loss: 0.0100 - val_accuracy: 1.0000\n",
      "Epoch 19/25\n",
      "2608/2609 [============================>.] - ETA: 0s - loss: 0.0607 - accuracy: 0.9790\n",
      "Epoch 00019: loss improved from 0.06373 to 0.06075, saving model to finetuned_model_last.h5\n",
      "2609/2609 [==============================] - 1158s 444ms/step - loss: 0.0607 - accuracy: 0.9790 - val_loss: 0.0137 - val_accuracy: 1.0000\n",
      "Epoch 20/25\n",
      "2608/2609 [============================>.] - ETA: 0s - loss: 0.0573 - accuracy: 0.9800\n",
      "Epoch 00020: loss improved from 0.06075 to 0.05730, saving model to finetuned_model_last.h5\n",
      "2609/2609 [==============================] - 1159s 444ms/step - loss: 0.0573 - accuracy: 0.9800 - val_loss: 0.0075 - val_accuracy: 1.0000\n",
      "Epoch 21/25\n",
      "2608/2609 [============================>.] - ETA: 0s - loss: 0.0558 - accuracy: 0.9807\n",
      "Epoch 00021: loss improved from 0.05730 to 0.05586, saving model to finetuned_model_last.h5\n",
      "2609/2609 [==============================] - 1159s 444ms/step - loss: 0.0558 - accuracy: 0.9807 - val_loss: 0.0047 - val_accuracy: 1.0000\n",
      "Epoch 22/25\n",
      "2608/2609 [============================>.] - ETA: 0s - loss: 0.0532 - accuracy: 0.9818\n",
      "Epoch 00022: loss improved from 0.05586 to 0.05318, saving model to finetuned_model_last.h5\n",
      "2609/2609 [==============================] - 1167s 447ms/step - loss: 0.0532 - accuracy: 0.9818 - val_loss: 0.0114 - val_accuracy: 1.0000\n",
      "Epoch 23/25\n",
      "2608/2609 [============================>.] - ETA: 0s - loss: 0.0521 - accuracy: 0.9816\n",
      "Epoch 00023: loss improved from 0.05318 to 0.05209, saving model to finetuned_model_last.h5\n",
      "2609/2609 [==============================] - 1162s 445ms/step - loss: 0.0521 - accuracy: 0.9816 - val_loss: 0.0201 - val_accuracy: 1.0000\n",
      "Epoch 24/25\n",
      "2608/2609 [============================>.] - ETA: 0s - loss: 0.0497 - accuracy: 0.9820\n",
      "Epoch 00024: loss improved from 0.05209 to 0.04970, saving model to finetuned_model_last.h5\n",
      "2609/2609 [==============================] - 1160s 445ms/step - loss: 0.0497 - accuracy: 0.9820 - val_loss: 0.0216 - val_accuracy: 1.0000\n",
      "Epoch 25/25\n",
      "2608/2609 [============================>.] - ETA: 0s - loss: 0.0477 - accuracy: 0.9834\n",
      "Epoch 00025: loss improved from 0.04970 to 0.04776, saving model to finetuned_model_last.h5\n"
     ]
    },
    {
     "name": "stdout",
     "output_type": "stream",
     "text": [
      "\b\b\b\b\b\b\b\b\b\b\b\b\b\b\b\b\b\b\b\b\b\b\b\b\b\b\b\b\b\b\b\b\b\b\b\b\b\b\b\b\b\b\b\b\b\b\b\b\b\b\b\b\b\b\b\b\b\b\b\b\b\b\b\b\b\b\b\b\b\b\b\b\b\b\b\b\b\b\b\b\b\b\b\b\b\b\r",
      "2609/2609 [==============================] - 1159s 444ms/step - loss: 0.0477 - accuracy: 0.9834 - val_loss: 0.0199 - val_accuracy: 1.0000\n"
     ]
    }
   ],
   "source": [
    "history_1 = model.fit(\n",
    "    train_generator, \n",
    "    epochs = 25,\n",
    "    steps_per_epoch = nb_train_samples//batch_size,\n",
    "    validation_data = valid_generator, \n",
    "    validation_steps = nb_valid_samples//batch_size,\n",
    "    verbose = 1,\n",
    "    callbacks = callbacks,\n",
    "    shuffle = True\n",
    ")"
   ]
  },
  {
   "cell_type": "code",
   "execution_count": 19,
   "metadata": {},
   "outputs": [
    {
     "data": {
      "image/png": "[encoded data removed]",
      "text/plain": [
       "<Figure size 432x288 with 1 Axes>"
      ]
     },
     "metadata": {},
     "output_type": "display_data"
    },
    {
     "data": {
      "image/png": "[encoded data removed]",
      "text/plain": [
       "<Figure size 432x288 with 1 Axes>"
      ]
     },
     "metadata": {},
     "output_type": "display_data"
    }
   ],
   "source": [
    "plt.subplot()\n",
    "plt.rcParams['figure.figsize'] = (6.0, 4.0)\n",
    "plt.title('Finetuned Model Accuracy')\n",
    "plt.plot(history_1.history['accuracy'])\n",
    "plt.plot(history_1.history['val_accuracy'])\n",
    "plt.ylabel('Accuracy')\n",
    "plt.xlabel('Epochs')\n",
    "plt.legend(['Training Accuracy','Validation Accuracy'])\n",
    "plt.savefig('finetuned_acc_epoch_last.png', transparent= False, bbox_inches= 'tight', dpi= 400)\n",
    "plt.show()\n",
    "\n",
    "plt.subplot()\n",
    "plt.title('Finetuned Model Loss')\n",
    "plt.plot(history_1.history['loss'])\n",
    "plt.plot(history_1.history['val_loss'])\n",
    "plt.ylabel('Loss')\n",
    "plt.xlabel('Epochs')\n",
    "plt.legend(['Training Loss','Validation Loss'])\n",
    "plt.savefig('finetuned_loss_epoch_last.png', transparent= False, bbox_inches= 'tight', dpi= 400)\n",
    "plt.show()"
   ]
  },
  {
   "cell_type": "code",
   "execution_count": 11,
   "metadata": {},
   "outputs": [
    {
     "name": "stdout",
     "output_type": "stream",
     "text": [
      "WARNING:tensorflow:sample_weight modes were coerced from\n",
      "  ...\n",
      "    to  \n",
      "  ['...']\n",
      "31/31 [==============================] - 10s 310ms/step - loss: 0.0371 - accuracy: 0.9917\n",
      "Test Loss:  0.03709157686056635\n",
      "Test Accuracy:  0.9917355\n"
     ]
    }
   ],
   "source": [
    "(eval_loss, eval_accuracy) = model.evaluate(test_generator, verbose= 1)\n",
    "print('Test Loss: ', eval_loss)\n",
    "print('Test Accuracy: ', eval_accuracy)"
   ]
  },
  {
   "cell_type": "code",
   "execution_count": 12,
   "metadata": {},
   "outputs": [
    {
     "data": {
      "image/png": "[encoded data removed]",
      "text/plain": [
       "<Figure size 720x576 with 2 Axes>"
      ]
     },
     "metadata": {
      "needs_background": "light"
     },
     "output_type": "display_data"
    },
    {
     "name": "stdout",
     "output_type": "stream",
     "text": [
      "Classification Report of VGG-19 Architecture Model\n",
      "\n",
      "              precision    recall  f1-score   support\n",
      "\n",
      "         CNV       0.98      1.00      0.99       242\n",
      "         DME       1.00      1.00      1.00       242\n",
      "      DRUSEN       0.99      0.98      0.98       242\n",
      "      NORMAL       1.00      0.99      0.99       242\n",
      "\n",
      "    accuracy                           0.99       968\n",
      "   macro avg       0.99      0.99      0.99       968\n",
      "weighted avg       0.99      0.99      0.99       968\n",
      "\n"
     ]
    }
   ],
   "source": [
    "Y_pred = model.predict(test_generator)\n",
    "y_pred = np.argmax(Y_pred, axis=1)\n",
    "cm = confusion_matrix(test_generator.classes, y_pred)\n",
    "df_cm = pd.DataFrame(cm, list(test_generator.class_indices.keys()), list(test_generator.class_indices.keys()))\n",
    "fig, ax = plt.subplots(figsize=(10,8))\n",
    "sn.set(font_scale=1.4) # for label size\n",
    "sn.heatmap(df_cm, annot=True, annot_kws={\"size\": 16}, cmap=plt.cm.Blues)\n",
    "plt.title('Confusion Matrix\\n')\n",
    "plt.savefig('confusion_matrix.png', transparent= False, bbox_inches= 'tight', dpi= 400)\n",
    "plt.show()\n",
    "\n",
    "print('Classification Report of VGG-19 Architecture Model\\n')\n",
    "target_names = list(test_generator.class_indices.keys())\n",
    "print(classification_report(test_generator.classes, y_pred, target_names=target_names))"
   ]
  },
  {
   "cell_type": "code",
   "execution_count": 13,
   "metadata": {},
   "outputs": [
    {
     "name": "stdout",
     "output_type": "stream",
     "text": [
      "Found 968 images belonging to 4 classes.\n"
     ]
    }
   ],
   "source": [
    "test_X, test_Y = next(valid_test_datagen.flow_from_directory(\n",
    "    test_data_dir,  \n",
    "    target_size= (img_width, img_height), \n",
    "    color_mode= 'rgb',\n",
    "    batch_size= 968,        \n",
    "    class_mode= 'categorical',\n",
    "    shuffle= False, ))\n",
    "\n",
    "test_y = np.argmax(test_Y, axis=1)"
   ]
  },
  {
   "cell_type": "code",
   "execution_count": 14,
   "metadata": {},
   "outputs": [
    {
     "name": "stdout",
     "output_type": "stream",
     "text": [
      "Cohens kappa: 0.988981\n",
      "ROC AUC: 0.999787\n"
     ]
    }
   ],
   "source": [
    "Y_pred = model.predict(test_generator)\n",
    "yhat_classes = model.predict_classes(test_X)\n",
    "\n",
    "# kappa\n",
    "kappa = cohen_kappa_score(test_y, yhat_classes)\n",
    "print('Cohens kappa: %f' % kappa)\n",
    "\n",
    "\n",
    "# ROC AUC\n",
    "auc = roc_auc_score(test_Y, Y_pred)\n",
    "print('ROC AUC: %f' % auc)"
   ]
  },
  {
   "cell_type": "code",
   "execution_count": 16,
   "metadata": {},
   "outputs": [
    {
     "name": "stdout",
     "output_type": "stream",
     "text": [
      "+------------------+--------+\n",
      "|     Metrices     | Values |\n",
      "+------------------+--------+\n",
      "| Accuracy Testing | 0.9917 |\n",
      "|     ROC AUC      | 0.9997 |\n",
      "|   Cohens Kappa   | 0.9989 |\n",
      "|    Precision     |  0.99  |\n",
      "|      Recall      |  0.99  |\n",
      "|     F1-score     |  0.99  |\n",
      "+------------------+--------+\n"
     ]
    }
   ],
   "source": [
    "from prettytable import PrettyTable\n",
    "\n",
    "pretty = PrettyTable()\n",
    "\n",
    "pretty.field_names = ['Metrices','Values']\n",
    "\n",
    "pretty.add_row(['Accuracy Testing', '0.9917'])\n",
    "pretty.add_row(['ROC AUC', '0.9997'])\n",
    "pretty.add_row(['Cohens Kappa', '0.9989'])\n",
    "pretty.add_row(['Precision','0.99'])\n",
    "pretty.add_row(['Recall','0.99'])\n",
    "pretty.add_row(['F1-score','0.99'])\n",
    "\n",
    "print(pretty)"
   ]
  },
  {
   "cell_type": "code",
   "execution_count": null,
   "metadata": {},
   "outputs": [],
   "source": []
  }
 ],
 "metadata": {
  "kernelspec": {
   "display_name": "Python 3",
   "language": "python",
   "name": "python3"
  },
  "language_info": {
   "codemirror_mode": {
    "name": "ipython",
    "version": 3
   },
   "file_extension": ".py",
   "mimetype": "text/x-python",
   "name": "python",
   "nbconvert_exporter": "python",
   "pygments_lexer": "ipython3",
   "version": "3.7.9"
  }
 },
 "nbformat": 4,
 "nbformat_minor": 4
}
